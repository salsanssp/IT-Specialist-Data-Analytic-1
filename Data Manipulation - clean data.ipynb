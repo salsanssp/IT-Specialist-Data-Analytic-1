{
 "cells": [
  {
   "cell_type": "markdown",
   "id": "1f6461bf-3508-45fb-a2d6-9c7d5bb07e45",
   "metadata": {},
   "source": [
    "## Data Cleansing"
   ]
  },
  {
   "cell_type": "markdown",
   "id": "4cd053d7-ef97-4573-b216-808f767d57b1",
   "metadata": {},
   "source": [
    "Data cleaning is a crucial step in the data preprocessing pipeline. It involves identifying and rectifying issues in your dataset to ensure that it’s ready for analysis."
   ]
  },
  {
   "cell_type": "code",
   "execution_count": 3,
   "id": "386cf725-c853-4bb2-8822-014ff8da0856",
   "metadata": {},
   "outputs": [],
   "source": [
    "#impor syntax, you need numpy, pandas, matplotlib (for visualization), seaborn\n",
    "\n",
    "import numpy as np\n",
    "import pandas as pd\n",
    "import matplotlib.pyplot as plt\n",
    "%matplotlib inline\n",
    "import seaborn as sns"
   ]
  },
  {
   "cell_type": "code",
   "execution_count": 7,
   "id": "3c9c6a95-bf7f-4f13-bb41-ac8863b93795",
   "metadata": {},
   "outputs": [],
   "source": [
    "#load data train\n",
    "df = pd.read_csv('Train.csv')"
   ]
  },
  {
   "cell_type": "code",
   "execution_count": 8,
   "id": "17262f06-27d3-4931-b01a-7799f4c36c12",
   "metadata": {},
   "outputs": [
    {
     "data": {
      "text/html": [
       "<div>\n",
       "<style scoped>\n",
       "    .dataframe tbody tr th:only-of-type {\n",
       "        vertical-align: middle;\n",
       "    }\n",
       "\n",
       "    .dataframe tbody tr th {\n",
       "        vertical-align: top;\n",
       "    }\n",
       "\n",
       "    .dataframe thead th {\n",
       "        text-align: right;\n",
       "    }\n",
       "</style>\n",
       "<table border=\"1\" class=\"dataframe\">\n",
       "  <thead>\n",
       "    <tr style=\"text-align: right;\">\n",
       "      <th></th>\n",
       "      <th>ID</th>\n",
       "      <th>Gender</th>\n",
       "      <th>Ever_Married</th>\n",
       "      <th>Age</th>\n",
       "      <th>Graduated</th>\n",
       "      <th>Profession</th>\n",
       "      <th>Work_Experience</th>\n",
       "      <th>Spending_Score</th>\n",
       "      <th>Family_Size</th>\n",
       "      <th>Var_1</th>\n",
       "      <th>Segmentation</th>\n",
       "    </tr>\n",
       "  </thead>\n",
       "  <tbody>\n",
       "    <tr>\n",
       "      <th>0</th>\n",
       "      <td>462809</td>\n",
       "      <td>Male</td>\n",
       "      <td>No</td>\n",
       "      <td>22</td>\n",
       "      <td>No</td>\n",
       "      <td>Healthcare</td>\n",
       "      <td>1.0</td>\n",
       "      <td>Low</td>\n",
       "      <td>4.0</td>\n",
       "      <td>Cat_4</td>\n",
       "      <td>D</td>\n",
       "    </tr>\n",
       "    <tr>\n",
       "      <th>1</th>\n",
       "      <td>462643</td>\n",
       "      <td>Female</td>\n",
       "      <td>Yes</td>\n",
       "      <td>38</td>\n",
       "      <td>Yes</td>\n",
       "      <td>Engineer</td>\n",
       "      <td>NaN</td>\n",
       "      <td>Average</td>\n",
       "      <td>3.0</td>\n",
       "      <td>Cat_4</td>\n",
       "      <td>A</td>\n",
       "    </tr>\n",
       "    <tr>\n",
       "      <th>2</th>\n",
       "      <td>466315</td>\n",
       "      <td>Female</td>\n",
       "      <td>Yes</td>\n",
       "      <td>67</td>\n",
       "      <td>Yes</td>\n",
       "      <td>Engineer</td>\n",
       "      <td>1.0</td>\n",
       "      <td>Low</td>\n",
       "      <td>1.0</td>\n",
       "      <td>Cat_6</td>\n",
       "      <td>B</td>\n",
       "    </tr>\n",
       "    <tr>\n",
       "      <th>3</th>\n",
       "      <td>461735</td>\n",
       "      <td>Male</td>\n",
       "      <td>Yes</td>\n",
       "      <td>67</td>\n",
       "      <td>Yes</td>\n",
       "      <td>Lawyer</td>\n",
       "      <td>0.0</td>\n",
       "      <td>High</td>\n",
       "      <td>2.0</td>\n",
       "      <td>Cat_6</td>\n",
       "      <td>B</td>\n",
       "    </tr>\n",
       "    <tr>\n",
       "      <th>4</th>\n",
       "      <td>462669</td>\n",
       "      <td>Female</td>\n",
       "      <td>Yes</td>\n",
       "      <td>40</td>\n",
       "      <td>Yes</td>\n",
       "      <td>Entertainment</td>\n",
       "      <td>NaN</td>\n",
       "      <td>High</td>\n",
       "      <td>6.0</td>\n",
       "      <td>Cat_6</td>\n",
       "      <td>A</td>\n",
       "    </tr>\n",
       "  </tbody>\n",
       "</table>\n",
       "</div>"
      ],
      "text/plain": [
       "       ID  Gender Ever_Married  Age Graduated     Profession  Work_Experience  \\\n",
       "0  462809    Male           No   22        No     Healthcare              1.0   \n",
       "1  462643  Female          Yes   38       Yes       Engineer              NaN   \n",
       "2  466315  Female          Yes   67       Yes       Engineer              1.0   \n",
       "3  461735    Male          Yes   67       Yes         Lawyer              0.0   \n",
       "4  462669  Female          Yes   40       Yes  Entertainment              NaN   \n",
       "\n",
       "  Spending_Score  Family_Size  Var_1 Segmentation  \n",
       "0            Low          4.0  Cat_4            D  \n",
       "1        Average          3.0  Cat_4            A  \n",
       "2            Low          1.0  Cat_6            B  \n",
       "3           High          2.0  Cat_6            B  \n",
       "4           High          6.0  Cat_6            A  "
      ]
     },
     "execution_count": 8,
     "metadata": {},
     "output_type": "execute_result"
    }
   ],
   "source": [
    "df.head(5)"
   ]
  },
  {
   "cell_type": "code",
   "execution_count": 9,
   "id": "0bb0c24b-9870-47ab-ba0b-0f0feccaaeea",
   "metadata": {},
   "outputs": [
    {
     "name": "stdout",
     "output_type": "stream",
     "text": [
      "<class 'pandas.core.frame.DataFrame'>\n",
      "RangeIndex: 8068 entries, 0 to 8067\n",
      "Data columns (total 11 columns):\n",
      " #   Column           Non-Null Count  Dtype  \n",
      "---  ------           --------------  -----  \n",
      " 0   ID               8068 non-null   int64  \n",
      " 1   Gender           8068 non-null   object \n",
      " 2   Ever_Married     7928 non-null   object \n",
      " 3   Age              8068 non-null   int64  \n",
      " 4   Graduated        7990 non-null   object \n",
      " 5   Profession       7944 non-null   object \n",
      " 6   Work_Experience  7239 non-null   float64\n",
      " 7   Spending_Score   8068 non-null   object \n",
      " 8   Family_Size      7733 non-null   float64\n",
      " 9   Var_1            7992 non-null   object \n",
      " 10  Segmentation     8068 non-null   object \n",
      "dtypes: float64(2), int64(2), object(7)\n",
      "memory usage: 693.5+ KB\n"
     ]
    }
   ],
   "source": [
    "df.info()"
   ]
  },
  {
   "cell_type": "markdown",
   "id": "883c7a41-70fa-4b7d-8a08-b80c59fb250e",
   "metadata": {},
   "source": [
    "# Common Data Cleaning Tasks in Python:"
   ]
  },
  {
   "cell_type": "markdown",
   "id": "dbe5eeaf-b5a5-4802-904f-89b04b8e1a05",
   "metadata": {},
   "source": [
    "### 1. Handling Missing Values\r\n",
    "Incomplete data sets frequently contain missing values, posing a challenge for analysis. Techniques like imputation, which involves filling missing values with estimates, or dropping rows/columns with significant missing data are commonly employed to handle this issue. These methods help ensure that the dataset remains usable and provides reliable insights."
   ]
  },
  {
   "cell_type": "markdown",
   "id": "35fb4a45-80e7-443c-b09f-a222a6fd7aff",
   "metadata": {},
   "source": [
    "- We will handle missing values in the column \"Var_1\" through imputation."
   ]
  },
  {
   "cell_type": "markdown",
   "id": "4fcdda35-c5cc-4eed-80a8-572adc2ceb73",
   "metadata": {},
   "source": [
    "Imputation is replace missing values with a statistical measure such as mean, median, or mode of the column."
   ]
  },
  {
   "cell_type": "code",
   "execution_count": 10,
   "id": "46de496b-9543-4321-b260-e5d438162761",
   "metadata": {},
   "outputs": [
    {
     "data": {
      "text/plain": [
       "Var_1\n",
       "Cat_6    5238\n",
       "Cat_4    1089\n",
       "Cat_3     822\n",
       "Cat_2     422\n",
       "Cat_7     203\n",
       "Cat_1     133\n",
       "Cat_5      85\n",
       "Name: count, dtype: int64"
      ]
     },
     "execution_count": 10,
     "metadata": {},
     "output_type": "execute_result"
    }
   ],
   "source": [
    "# count the occurrences of each unique value in the 'Var_1' column\n",
    "\n",
    "df['Var_1'].value_counts()"
   ]
  },
  {
   "cell_type": "code",
   "execution_count": 11,
   "id": "10651ce4-4a69-43aa-974c-57c0f8dea8a2",
   "metadata": {},
   "outputs": [
    {
     "data": {
      "text/plain": [
       "76"
      ]
     },
     "execution_count": 11,
     "metadata": {},
     "output_type": "execute_result"
    }
   ],
   "source": [
    "# count the number of missing (NaN) values\n",
    "\n",
    "df['Var_1'].isna().sum()"
   ]
  },
  {
   "cell_type": "code",
   "execution_count": 12,
   "id": "5676bd7b-ddf6-485e-971a-c782d16079ea",
   "metadata": {},
   "outputs": [],
   "source": [
    "# replaces all NaN values in the 'Var_1' column with the calculated mode value.\n",
    "\n",
    "val = df['Var_1'].mode().values[0]\n",
    "\n",
    "df['Var_1'] = df['Var_1'].fillna(val)"
   ]
  },
  {
   "cell_type": "code",
   "execution_count": 13,
   "id": "ea5f6fda-42dd-41d3-a479-a2dcb7c7f465",
   "metadata": {},
   "outputs": [
    {
     "data": {
      "text/plain": [
       "Var_1\n",
       "Cat_6    5314\n",
       "Cat_4    1089\n",
       "Cat_3     822\n",
       "Cat_2     422\n",
       "Cat_7     203\n",
       "Cat_1     133\n",
       "Cat_5      85\n",
       "Name: count, dtype: int64"
      ]
     },
     "execution_count": 13,
     "metadata": {},
     "output_type": "execute_result"
    }
   ],
   "source": [
    "# the result\n",
    "\n",
    "df['Var_1'].value_counts()"
   ]
  },
  {
   "cell_type": "markdown",
   "id": "0fea7410-bb6e-4b98-ae86-862247fc520b",
   "metadata": {},
   "source": [
    "This method of imputation is useful for categorical or discrete data where replacing missing values with the most common value can preserve the distribution of the data to some extent."
   ]
  },
  {
   "cell_type": "markdown",
   "id": "093bf65e-05f4-45c8-b03e-5dd80eae7278",
   "metadata": {},
   "source": [
    "- We will handle missing values in the column \"Work_Experience\" through imputation."
   ]
  },
  {
   "cell_type": "code",
   "execution_count": 14,
   "id": "342d38b1-eb8f-4fcb-b5ff-eface487b0a1",
   "metadata": {},
   "outputs": [
    {
     "data": {
      "text/plain": [
       "8068"
      ]
     },
     "execution_count": 14,
     "metadata": {},
     "output_type": "execute_result"
    }
   ],
   "source": [
    "# we'll fillna Height\n",
    "# first we can check the shape\n",
    "\n",
    "df.shape[0]"
   ]
  },
  {
   "cell_type": "code",
   "execution_count": 15,
   "id": "9392be23-24b2-4c49-aba9-d0af39b4cb64",
   "metadata": {},
   "outputs": [
    {
     "data": {
      "text/plain": [
       "829"
      ]
     },
     "execution_count": 15,
     "metadata": {},
     "output_type": "execute_result"
    }
   ],
   "source": [
    "df['Work_Experience'].isna().sum()"
   ]
  },
  {
   "cell_type": "code",
   "execution_count": 16,
   "id": "dfedd7f7-0030-4cf1-a0e8-102618f81273",
   "metadata": {},
   "outputs": [
    {
     "data": {
      "text/plain": [
       "0.1027516113039167"
      ]
     },
     "execution_count": 16,
     "metadata": {},
     "output_type": "execute_result"
    }
   ],
   "source": [
    "df['Work_Experience'].isna().sum()/df.shape[0]"
   ]
  },
  {
   "cell_type": "code",
   "execution_count": 17,
   "id": "6e00c0a2-ff0a-4282-9d0e-9a12291d8e6a",
   "metadata": {},
   "outputs": [
    {
     "data": {
      "text/plain": [
       "15"
      ]
     },
     "execution_count": 17,
     "metadata": {},
     "output_type": "execute_result"
    }
   ],
   "source": [
    "# the unique is not that far, so we can fill the NaN\n",
    "\n",
    "df.Work_Experience.nunique()"
   ]
  },
  {
   "cell_type": "code",
   "execution_count": 18,
   "id": "c63ca5e9-993f-4690-8f2a-97cfc107c3a4",
   "metadata": {},
   "outputs": [
    {
     "data": {
      "image/png": "[encoded data removed]",
      "text/plain": [
       "<Figure size 640x480 with 1 Axes>"
      ]
     },
     "metadata": {},
     "output_type": "display_data"
    }
   ],
   "source": [
    "# show the chart visual\n",
    "df.Work_Experience.plot(kind='hist');"
   ]
  },
  {
   "cell_type": "markdown",
   "id": "f959d00c-1da7-4185-b3ae-6dc03a997e9c",
   "metadata": {},
   "source": [
    "from the visual this chart is negative skewnes"
   ]
  },
  {
   "cell_type": "code",
   "execution_count": 19,
   "id": "d918fb06-8655-4f78-aec2-454aee1ac9fe",
   "metadata": {},
   "outputs": [],
   "source": [
    "# fillna\n",
    "# if negative or positive skewness we can used median, buf if it normal skewnes you can used mode\n",
    "\n",
    "val = df.Work_Experience.median()\n",
    "df['Work_Experience'] = df.Work_Experience.fillna(val)"
   ]
  },
  {
   "cell_type": "code",
   "execution_count": 20,
   "id": "f7721499-07ca-456e-b751-c41fdd79e6bd",
   "metadata": {},
   "outputs": [
    {
     "name": "stdout",
     "output_type": "stream",
     "text": [
      "<class 'pandas.core.frame.DataFrame'>\n",
      "RangeIndex: 8068 entries, 0 to 8067\n",
      "Data columns (total 11 columns):\n",
      " #   Column           Non-Null Count  Dtype  \n",
      "---  ------           --------------  -----  \n",
      " 0   ID               8068 non-null   int64  \n",
      " 1   Gender           8068 non-null   object \n",
      " 2   Ever_Married     7928 non-null   object \n",
      " 3   Age              8068 non-null   int64  \n",
      " 4   Graduated        7990 non-null   object \n",
      " 5   Profession       7944 non-null   object \n",
      " 6   Work_Experience  8068 non-null   float64\n",
      " 7   Spending_Score   8068 non-null   object \n",
      " 8   Family_Size      7733 non-null   float64\n",
      " 9   Var_1            8068 non-null   object \n",
      " 10  Segmentation     8068 non-null   object \n",
      "dtypes: float64(2), int64(2), object(7)\n",
      "memory usage: 693.5+ KB\n"
     ]
    }
   ],
   "source": [
    "# check the info\n",
    "df.info()"
   ]
  },
  {
   "cell_type": "code",
   "execution_count": 21,
   "id": "81657990-ff76-4292-8697-db3aa3dba87c",
   "metadata": {},
   "outputs": [
    {
     "data": {
      "image/png": "[encoded data removed]",
      "text/plain": [
       "<Figure size 640x480 with 1 Axes>"
      ]
     },
     "metadata": {},
     "output_type": "display_data"
    }
   ],
   "source": [
    "# check the chart againt\n",
    "df.Work_Experience.plot(kind='hist');"
   ]
  },
  {
   "cell_type": "markdown",
   "id": "8b0a519e-fd1e-49fb-baba-7630bed47a96",
   "metadata": {},
   "source": [
    "- We will handle missing values in the column \"Graduated\" through imputation."
   ]
  },
  {
   "cell_type": "code",
   "execution_count": 22,
   "id": "c7434ffe-2f96-40d6-88e7-a3ecd07b015f",
   "metadata": {},
   "outputs": [
    {
     "data": {
      "text/plain": [
       "Graduated\n",
       "Yes    4968\n",
       "No     3022\n",
       "Name: count, dtype: int64"
      ]
     },
     "execution_count": 22,
     "metadata": {},
     "output_type": "execute_result"
    }
   ],
   "source": [
    "df['Graduated'].value_counts()"
   ]
  },
  {
   "cell_type": "code",
   "execution_count": 23,
   "id": "70fe470e-07da-4c2c-93c3-5bca3d04ca78",
   "metadata": {},
   "outputs": [],
   "source": [
    "val = df['Graduated'].mode().values[0]\n",
    "\n",
    "df['Graduated'] = df['Graduated'].fillna(val)"
   ]
  },
  {
   "cell_type": "code",
   "execution_count": 24,
   "id": "d0a518c3-5a7e-4418-830f-7c1ac0cf979c",
   "metadata": {},
   "outputs": [
    {
     "data": {
      "text/plain": [
       "Graduated\n",
       "Yes    5046\n",
       "No     3022\n",
       "Name: count, dtype: int64"
      ]
     },
     "execution_count": 24,
     "metadata": {},
     "output_type": "execute_result"
    }
   ],
   "source": [
    "# the result\n",
    "\n",
    "df['Graduated'].value_counts()"
   ]
  },
  {
   "cell_type": "markdown",
   "id": "72202550-026b-448b-9f2d-445d13d7bd7a",
   "metadata": {},
   "source": [
    "- Filling Missing Data in the column 'Profession' with 'Unknown'"
   ]
  },
  {
   "cell_type": "code",
   "execution_count": 25,
   "id": "c13dbcb4-841c-42e1-a1e4-f089cbce2deb",
   "metadata": {},
   "outputs": [],
   "source": [
    "df['Profession'].fillna('unknown', inplace=True)"
   ]
  },
  {
   "cell_type": "markdown",
   "id": "8d2d9bd9-e525-4dd9-b7a4-5e4311e92b73",
   "metadata": {},
   "source": [
    "- Filling Missing Data in the column 'Ever_Married' with 'Unknown'"
   ]
  },
  {
   "cell_type": "code",
   "execution_count": 26,
   "id": "0d137c6a-8db1-4c59-98e0-4df6158f03ec",
   "metadata": {},
   "outputs": [],
   "source": [
    "df['Ever_Married'].fillna('unknown', inplace=True)"
   ]
  },
  {
   "cell_type": "markdown",
   "id": "1d258db8-0e99-433d-bf75-fe14111ed606",
   "metadata": {},
   "source": [
    "- Filling Missing Data in the column 'Family_Size' with 'Unknown'"
   ]
  },
  {
   "cell_type": "code",
   "execution_count": 34,
   "id": "34ac1ec6-dc12-41a7-a0bc-48ba6404a2dc",
   "metadata": {},
   "outputs": [],
   "source": [
    "# Convert 'Family_Size' column to a numerical data type\n",
    "df['Family_Size'] = pd.to_numeric(df['Family_Size'], errors='coerce')"
   ]
  },
  {
   "cell_type": "code",
   "execution_count": 35,
   "id": "95b82ba5-0226-4dfc-b09d-e340e7a04a0c",
   "metadata": {},
   "outputs": [
    {
     "name": "stdout",
     "output_type": "stream",
     "text": [
      "<class 'pandas.core.frame.DataFrame'>\n",
      "RangeIndex: 8068 entries, 0 to 8067\n",
      "Data columns (total 12 columns):\n",
      " #   Column           Non-Null Count  Dtype  \n",
      "---  ------           --------------  -----  \n",
      " 0   ID               8068 non-null   int64  \n",
      " 1   Gender           8068 non-null   object \n",
      " 2   Ever_Married     8068 non-null   object \n",
      " 3   Age              8068 non-null   int64  \n",
      " 4   Graduated        8068 non-null   object \n",
      " 5   Profession       8068 non-null   object \n",
      " 6   Work_Experience  8068 non-null   float64\n",
      " 7   Spending_Score   8068 non-null   object \n",
      " 8   Family_Size      7733 non-null   float64\n",
      " 9   Var_1            8068 non-null   object \n",
      " 10  Segmentation     8068 non-null   object \n",
      " 11  Status           8068 non-null   object \n",
      "dtypes: float64(2), int64(2), object(8)\n",
      "memory usage: 756.5+ KB\n"
     ]
    }
   ],
   "source": [
    "df.info()"
   ]
  }
 ],
 "metadata": {
  "kernelspec": {
   "display_name": "Python 3 (ipykernel)",
   "language": "python",
   "name": "python3"
  },
  "language_info": {
   "codemirror_mode": {
    "name": "ipython",
    "version": 3
   },
   "file_extension": ".py",
   "mimetype": "text/x-python",
   "name": "python",
   "nbconvert_exporter": "python",
   "pygments_lexer": "ipython3",
   "version": "3.11.7"
  }
 },
 "nbformat": 4,
 "nbformat_minor": 5
}
