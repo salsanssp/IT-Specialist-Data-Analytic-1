{
 "cells": [
  {
   "cell_type": "markdown",
   "id": "7b1e1cbf-e4b5-4a3d-97bc-56b100645dcf",
   "metadata": {},
   "source": [
    "# Data Basics\n",
    "a collection of facts or values ​​that have not been processed or organized so that they do not have a clear meaning. Data can be numbers, letters, images, sounds, or anything else that can be captured and stored."
   ]
  },
  {
   "cell_type": "markdown",
   "id": "c5e14a2a-02ff-4ed1-8f77-90d070cb9f42",
   "metadata": {},
   "source": [
    "## Categorical\n",
    "1. Nominal\n",
    "   Ex: Gender on Kpop Idol csv\n",
    "2. Ordinal\n",
    "   Ex: NObeyesdad on Obesity Data Set csv"
   ]
  },
  {
   "cell_type": "markdown",
   "id": "161b3f10-5690-4f83-a121-f4eaf76c81c5",
   "metadata": {},
   "source": [
    "## Numeric\n",
    "1. Diskrit\n",
    "   ex: FAF (How often do you have physical activity) and TUE (How much time do you use technological devices such as cell phone, video game, television, computer adn others) on Obesity Data Set\n",
    "2. Continue\n",
    "   Ex: Height and Weight on Kpop Idol.csv\n",
    "3. Boolean\n",
    "   Ex: SCC and Smoke (the one with answer yes or no) on Obesity Data Set csv\n",
    "   "
   ]
  },
  {
   "cell_type": "code",
   "execution_count": 1,
   "id": "e08b361c-a88c-4b05-af17-3c45cf950c72",
   "metadata": {},
   "outputs": [],
   "source": [
    "import numpy as np\n",
    "import pandas as pd"
   ]
  },
  {
   "cell_type": "code",
   "execution_count": 2,
   "id": "ed65c758-2f1b-46c5-abe5-e3b74af97e76",
   "metadata": {},
   "outputs": [],
   "source": [
    "#load data university\n",
    "df = pd.read_csv('higher_ed_employee_Salaries.csv')"
   ]
  },
  {
   "cell_type": "code",
   "execution_count": 3,
   "id": "a99b20ad-efc4-4077-abcd-cbc61643674d",
   "metadata": {},
   "outputs": [
    {
     "data": {
      "text/html": [
       "<div>\n",
       "<style scoped>\n",
       "    .dataframe tbody tr th:only-of-type {\n",
       "        vertical-align: middle;\n",
       "    }\n",
       "\n",
       "    .dataframe tbody tr th {\n",
       "        vertical-align: top;\n",
       "    }\n",
       "\n",
       "    .dataframe thead th {\n",
       "        text-align: right;\n",
       "    }\n",
       "</style>\n",
       "<table border=\"1\" class=\"dataframe\">\n",
       "  <thead>\n",
       "    <tr style=\"text-align: right;\">\n",
       "      <th></th>\n",
       "      <th>Name</th>\n",
       "      <th>School</th>\n",
       "      <th>Job Description</th>\n",
       "      <th>Department</th>\n",
       "      <th>Earnings</th>\n",
       "      <th>Year</th>\n",
       "    </tr>\n",
       "  </thead>\n",
       "  <tbody>\n",
       "    <tr>\n",
       "      <th>0</th>\n",
       "      <td>Don Potter</td>\n",
       "      <td>University of Akron</td>\n",
       "      <td>Assistant Lecturer</td>\n",
       "      <td>Social Work</td>\n",
       "      <td>2472.00</td>\n",
       "      <td>2019</td>\n",
       "    </tr>\n",
       "    <tr>\n",
       "      <th>1</th>\n",
       "      <td>Emily Potter</td>\n",
       "      <td>The Ohio State University</td>\n",
       "      <td>Administrative Assistant 3</td>\n",
       "      <td>Arts and Sciences | Chemistry and Biochemistry...</td>\n",
       "      <td>48538.02</td>\n",
       "      <td>2022</td>\n",
       "    </tr>\n",
       "    <tr>\n",
       "      <th>2</th>\n",
       "      <td>Carol Jean Potter</td>\n",
       "      <td>The Ohio State University</td>\n",
       "      <td>Associate Professor-Clinical</td>\n",
       "      <td>Pediatrics</td>\n",
       "      <td>22722.80</td>\n",
       "      <td>2013</td>\n",
       "    </tr>\n",
       "    <tr>\n",
       "      <th>3</th>\n",
       "      <td>Kim Potter</td>\n",
       "      <td>The Ohio State University</td>\n",
       "      <td>Manager 4, Compliance</td>\n",
       "      <td>Legal Affairs | Compliance</td>\n",
       "      <td>170143.44</td>\n",
       "      <td>2022</td>\n",
       "    </tr>\n",
       "    <tr>\n",
       "      <th>4</th>\n",
       "      <td>Graham Potter</td>\n",
       "      <td>Miami University</td>\n",
       "      <td>Building and Grounds Assistant</td>\n",
       "      <td>Assoc VP Housing,Dining,Rec,Bus Svc</td>\n",
       "      <td>3075.20</td>\n",
       "      <td>2012</td>\n",
       "    </tr>\n",
       "  </tbody>\n",
       "</table>\n",
       "</div>"
      ],
      "text/plain": [
       "                Name                     School  \\\n",
       "0         Don Potter        University of Akron   \n",
       "1       Emily Potter  The Ohio State University   \n",
       "2  Carol Jean Potter  The Ohio State University   \n",
       "3         Kim Potter  The Ohio State University   \n",
       "4      Graham Potter           Miami University   \n",
       "\n",
       "                  Job Description  \\\n",
       "0              Assistant Lecturer   \n",
       "1      Administrative Assistant 3   \n",
       "2    Associate Professor-Clinical   \n",
       "3           Manager 4, Compliance   \n",
       "4  Building and Grounds Assistant   \n",
       "\n",
       "                                          Department   Earnings  Year  \n",
       "0                                        Social Work    2472.00  2019  \n",
       "1  Arts and Sciences | Chemistry and Biochemistry...   48538.02  2022  \n",
       "2                                         Pediatrics   22722.80  2013  \n",
       "3                         Legal Affairs | Compliance  170143.44  2022  \n",
       "4                Assoc VP Housing,Dining,Rec,Bus Svc    3075.20  2012  "
      ]
     },
     "execution_count": 3,
     "metadata": {},
     "output_type": "execute_result"
    }
   ],
   "source": [
    "df.head(5)"
   ]
  },
  {
   "cell_type": "code",
   "execution_count": 4,
   "id": "6a1c59c7-e305-4114-91b8-34b1e9fa44a0",
   "metadata": {},
   "outputs": [],
   "source": [
    "#load data emotion detection\n",
    "df = pd.read_csv('tweet_emotions.csv')"
   ]
  },
  {
   "cell_type": "code",
   "execution_count": 5,
   "id": "54171724-1070-45bf-990d-7f2ef4bc82fe",
   "metadata": {},
   "outputs": [
    {
     "data": {
      "text/html": [
       "<div>\n",
       "<style scoped>\n",
       "    .dataframe tbody tr th:only-of-type {\n",
       "        vertical-align: middle;\n",
       "    }\n",
       "\n",
       "    .dataframe tbody tr th {\n",
       "        vertical-align: top;\n",
       "    }\n",
       "\n",
       "    .dataframe thead th {\n",
       "        text-align: right;\n",
       "    }\n",
       "</style>\n",
       "<table border=\"1\" class=\"dataframe\">\n",
       "  <thead>\n",
       "    <tr style=\"text-align: right;\">\n",
       "      <th></th>\n",
       "      <th>tweet_id</th>\n",
       "      <th>sentiment</th>\n",
       "      <th>content</th>\n",
       "    </tr>\n",
       "  </thead>\n",
       "  <tbody>\n",
       "    <tr>\n",
       "      <th>0</th>\n",
       "      <td>1956967341</td>\n",
       "      <td>empty</td>\n",
       "      <td>@tiffanylue i know  i was listenin to bad habi...</td>\n",
       "    </tr>\n",
       "    <tr>\n",
       "      <th>1</th>\n",
       "      <td>1956967666</td>\n",
       "      <td>sadness</td>\n",
       "      <td>Layin n bed with a headache  ughhhh...waitin o...</td>\n",
       "    </tr>\n",
       "    <tr>\n",
       "      <th>2</th>\n",
       "      <td>1956967696</td>\n",
       "      <td>sadness</td>\n",
       "      <td>Funeral ceremony...gloomy friday...</td>\n",
       "    </tr>\n",
       "    <tr>\n",
       "      <th>3</th>\n",
       "      <td>1956967789</td>\n",
       "      <td>enthusiasm</td>\n",
       "      <td>wants to hang out with friends SOON!</td>\n",
       "    </tr>\n",
       "    <tr>\n",
       "      <th>4</th>\n",
       "      <td>1956968416</td>\n",
       "      <td>neutral</td>\n",
       "      <td>@dannycastillo We want to trade with someone w...</td>\n",
       "    </tr>\n",
       "  </tbody>\n",
       "</table>\n",
       "</div>"
      ],
      "text/plain": [
       "     tweet_id   sentiment                                            content\n",
       "0  1956967341       empty  @tiffanylue i know  i was listenin to bad habi...\n",
       "1  1956967666     sadness  Layin n bed with a headache  ughhhh...waitin o...\n",
       "2  1956967696     sadness                Funeral ceremony...gloomy friday...\n",
       "3  1956967789  enthusiasm               wants to hang out with friends SOON!\n",
       "4  1956968416     neutral  @dannycastillo We want to trade with someone w..."
      ]
     },
     "execution_count": 5,
     "metadata": {},
     "output_type": "execute_result"
    }
   ],
   "source": [
    "df.head(5)"
   ]
  },
  {
   "cell_type": "code",
   "execution_count": 6,
   "id": "7c6d1106-3f47-48f5-b7ca-027747e48e57",
   "metadata": {},
   "outputs": [],
   "source": [
    "#load data kpop idol\n",
    "df = pd.read_csv('ObesityDataSet_raw_and_data_sinthetic.csv')"
   ]
  },
  {
   "cell_type": "code",
   "execution_count": 7,
   "id": "04e75c1c-384b-4044-a29b-44c43a1a1984",
   "metadata": {},
   "outputs": [
    {
     "data": {
      "text/html": [
       "<div>\n",
       "<style scoped>\n",
       "    .dataframe tbody tr th:only-of-type {\n",
       "        vertical-align: middle;\n",
       "    }\n",
       "\n",
       "    .dataframe tbody tr th {\n",
       "        vertical-align: top;\n",
       "    }\n",
       "\n",
       "    .dataframe thead th {\n",
       "        text-align: right;\n",
       "    }\n",
       "</style>\n",
       "<table border=\"1\" class=\"dataframe\">\n",
       "  <thead>\n",
       "    <tr style=\"text-align: right;\">\n",
       "      <th></th>\n",
       "      <th>Age</th>\n",
       "      <th>Gender</th>\n",
       "      <th>Height</th>\n",
       "      <th>Weight</th>\n",
       "      <th>CALC</th>\n",
       "      <th>FAVC</th>\n",
       "      <th>FCVC</th>\n",
       "      <th>NCP</th>\n",
       "      <th>SCC</th>\n",
       "      <th>SMOKE</th>\n",
       "      <th>CH2O</th>\n",
       "      <th>family_history_with_overweight</th>\n",
       "      <th>FAF</th>\n",
       "      <th>TUE</th>\n",
       "      <th>CAEC</th>\n",
       "      <th>MTRANS</th>\n",
       "      <th>NObeyesdad</th>\n",
       "    </tr>\n",
       "  </thead>\n",
       "  <tbody>\n",
       "    <tr>\n",
       "      <th>0</th>\n",
       "      <td>21.0</td>\n",
       "      <td>Female</td>\n",
       "      <td>1.62</td>\n",
       "      <td>64.0</td>\n",
       "      <td>no</td>\n",
       "      <td>no</td>\n",
       "      <td>2.0</td>\n",
       "      <td>3.0</td>\n",
       "      <td>no</td>\n",
       "      <td>no</td>\n",
       "      <td>2.0</td>\n",
       "      <td>yes</td>\n",
       "      <td>0.0</td>\n",
       "      <td>1.0</td>\n",
       "      <td>Sometimes</td>\n",
       "      <td>Public_Transportation</td>\n",
       "      <td>Normal_Weight</td>\n",
       "    </tr>\n",
       "    <tr>\n",
       "      <th>1</th>\n",
       "      <td>21.0</td>\n",
       "      <td>Female</td>\n",
       "      <td>1.52</td>\n",
       "      <td>56.0</td>\n",
       "      <td>Sometimes</td>\n",
       "      <td>no</td>\n",
       "      <td>3.0</td>\n",
       "      <td>3.0</td>\n",
       "      <td>yes</td>\n",
       "      <td>yes</td>\n",
       "      <td>3.0</td>\n",
       "      <td>yes</td>\n",
       "      <td>3.0</td>\n",
       "      <td>0.0</td>\n",
       "      <td>Sometimes</td>\n",
       "      <td>Public_Transportation</td>\n",
       "      <td>Normal_Weight</td>\n",
       "    </tr>\n",
       "    <tr>\n",
       "      <th>2</th>\n",
       "      <td>23.0</td>\n",
       "      <td>Male</td>\n",
       "      <td>1.80</td>\n",
       "      <td>77.0</td>\n",
       "      <td>Frequently</td>\n",
       "      <td>no</td>\n",
       "      <td>2.0</td>\n",
       "      <td>3.0</td>\n",
       "      <td>no</td>\n",
       "      <td>no</td>\n",
       "      <td>2.0</td>\n",
       "      <td>yes</td>\n",
       "      <td>2.0</td>\n",
       "      <td>1.0</td>\n",
       "      <td>Sometimes</td>\n",
       "      <td>Public_Transportation</td>\n",
       "      <td>Normal_Weight</td>\n",
       "    </tr>\n",
       "    <tr>\n",
       "      <th>3</th>\n",
       "      <td>27.0</td>\n",
       "      <td>Male</td>\n",
       "      <td>1.80</td>\n",
       "      <td>87.0</td>\n",
       "      <td>Frequently</td>\n",
       "      <td>no</td>\n",
       "      <td>3.0</td>\n",
       "      <td>3.0</td>\n",
       "      <td>no</td>\n",
       "      <td>no</td>\n",
       "      <td>2.0</td>\n",
       "      <td>no</td>\n",
       "      <td>2.0</td>\n",
       "      <td>0.0</td>\n",
       "      <td>Sometimes</td>\n",
       "      <td>Walking</td>\n",
       "      <td>Overweight_Level_I</td>\n",
       "    </tr>\n",
       "    <tr>\n",
       "      <th>4</th>\n",
       "      <td>22.0</td>\n",
       "      <td>Male</td>\n",
       "      <td>1.78</td>\n",
       "      <td>89.8</td>\n",
       "      <td>Sometimes</td>\n",
       "      <td>no</td>\n",
       "      <td>2.0</td>\n",
       "      <td>1.0</td>\n",
       "      <td>no</td>\n",
       "      <td>no</td>\n",
       "      <td>2.0</td>\n",
       "      <td>no</td>\n",
       "      <td>0.0</td>\n",
       "      <td>0.0</td>\n",
       "      <td>Sometimes</td>\n",
       "      <td>Public_Transportation</td>\n",
       "      <td>Overweight_Level_II</td>\n",
       "    </tr>\n",
       "  </tbody>\n",
       "</table>\n",
       "</div>"
      ],
      "text/plain": [
       "    Age  Gender  Height  Weight        CALC FAVC  FCVC  NCP  SCC SMOKE  CH2O  \\\n",
       "0  21.0  Female    1.62    64.0          no   no   2.0  3.0   no    no   2.0   \n",
       "1  21.0  Female    1.52    56.0   Sometimes   no   3.0  3.0  yes   yes   3.0   \n",
       "2  23.0    Male    1.80    77.0  Frequently   no   2.0  3.0   no    no   2.0   \n",
       "3  27.0    Male    1.80    87.0  Frequently   no   3.0  3.0   no    no   2.0   \n",
       "4  22.0    Male    1.78    89.8   Sometimes   no   2.0  1.0   no    no   2.0   \n",
       "\n",
       "  family_history_with_overweight  FAF  TUE       CAEC                 MTRANS  \\\n",
       "0                            yes  0.0  1.0  Sometimes  Public_Transportation   \n",
       "1                            yes  3.0  0.0  Sometimes  Public_Transportation   \n",
       "2                            yes  2.0  1.0  Sometimes  Public_Transportation   \n",
       "3                             no  2.0  0.0  Sometimes                Walking   \n",
       "4                             no  0.0  0.0  Sometimes  Public_Transportation   \n",
       "\n",
       "            NObeyesdad  \n",
       "0        Normal_Weight  \n",
       "1        Normal_Weight  \n",
       "2        Normal_Weight  \n",
       "3   Overweight_Level_I  \n",
       "4  Overweight_Level_II  "
      ]
     },
     "execution_count": 7,
     "metadata": {},
     "output_type": "execute_result"
    }
   ],
   "source": [
    "df.head(5)"
   ]
  },
  {
   "cell_type": "code",
   "execution_count": 8,
   "id": "22bcfb82-6f83-473c-8d66-e862b18fed07",
   "metadata": {},
   "outputs": [],
   "source": [
    "import pandas as pd\n",
    "import numpy as np"
   ]
  },
  {
   "cell_type": "code",
   "execution_count": 9,
   "id": "2d645047-0a43-4832-8828-73a99c114b4f",
   "metadata": {},
   "outputs": [],
   "source": [
    "#load data kpop idol\n",
    "df = pd.read_csv('kpopidolsv3.csv')"
   ]
  },
  {
   "cell_type": "code",
   "execution_count": 10,
   "id": "23231f21-04dc-4f67-83d9-6138c9f3c19c",
   "metadata": {},
   "outputs": [
    {
     "data": {
      "text/html": [
       "<div>\n",
       "<style scoped>\n",
       "    .dataframe tbody tr th:only-of-type {\n",
       "        vertical-align: middle;\n",
       "    }\n",
       "\n",
       "    .dataframe tbody tr th {\n",
       "        vertical-align: top;\n",
       "    }\n",
       "\n",
       "    .dataframe thead th {\n",
       "        text-align: right;\n",
       "    }\n",
       "</style>\n",
       "<table border=\"1\" class=\"dataframe\">\n",
       "  <thead>\n",
       "    <tr style=\"text-align: right;\">\n",
       "      <th></th>\n",
       "      <th>Stage Name</th>\n",
       "      <th>Full Name</th>\n",
       "      <th>Korean Name</th>\n",
       "      <th>K Stage Name</th>\n",
       "      <th>Date of Birth</th>\n",
       "      <th>Group</th>\n",
       "      <th>Debut</th>\n",
       "      <th>Company</th>\n",
       "      <th>Country</th>\n",
       "      <th>Second Country</th>\n",
       "      <th>Height</th>\n",
       "      <th>Weight</th>\n",
       "      <th>Birthplace</th>\n",
       "      <th>Other Group</th>\n",
       "      <th>Former Group</th>\n",
       "      <th>Gender</th>\n",
       "    </tr>\n",
       "  </thead>\n",
       "  <tbody>\n",
       "    <tr>\n",
       "      <th>0</th>\n",
       "      <td>2Soul</td>\n",
       "      <td>Kim Younghoon</td>\n",
       "      <td>김영훈</td>\n",
       "      <td>이솔</td>\n",
       "      <td>10/09/1997</td>\n",
       "      <td>7 O'clock</td>\n",
       "      <td>26/08/2014</td>\n",
       "      <td>Jungle</td>\n",
       "      <td>South Korea</td>\n",
       "      <td>NaN</td>\n",
       "      <td>172.0</td>\n",
       "      <td>55.0</td>\n",
       "      <td>NaN</td>\n",
       "      <td>NaN</td>\n",
       "      <td>NaN</td>\n",
       "      <td>M</td>\n",
       "    </tr>\n",
       "    <tr>\n",
       "      <th>1</th>\n",
       "      <td>A.M</td>\n",
       "      <td>Seong Hyunwoo</td>\n",
       "      <td>성현우</td>\n",
       "      <td>에이엠</td>\n",
       "      <td>31/12/1996</td>\n",
       "      <td>Limitless</td>\n",
       "      <td>9/07/2019</td>\n",
       "      <td>ONO</td>\n",
       "      <td>South Korea</td>\n",
       "      <td>NaN</td>\n",
       "      <td>181.0</td>\n",
       "      <td>62.0</td>\n",
       "      <td>NaN</td>\n",
       "      <td>NaN</td>\n",
       "      <td>NaN</td>\n",
       "      <td>M</td>\n",
       "    </tr>\n",
       "    <tr>\n",
       "      <th>2</th>\n",
       "      <td>Ace</td>\n",
       "      <td>Jang Wooyoung</td>\n",
       "      <td>장우영</td>\n",
       "      <td>에이스</td>\n",
       "      <td>28/08/1992</td>\n",
       "      <td>VAV</td>\n",
       "      <td>31/10/2015</td>\n",
       "      <td>A team</td>\n",
       "      <td>South Korea</td>\n",
       "      <td>NaN</td>\n",
       "      <td>177.0</td>\n",
       "      <td>63.0</td>\n",
       "      <td>NaN</td>\n",
       "      <td>NaN</td>\n",
       "      <td>NaN</td>\n",
       "      <td>M</td>\n",
       "    </tr>\n",
       "    <tr>\n",
       "      <th>3</th>\n",
       "      <td>Aeji</td>\n",
       "      <td>Kwon Aeji</td>\n",
       "      <td>권애지</td>\n",
       "      <td>애지</td>\n",
       "      <td>25/10/1999</td>\n",
       "      <td>Hash Tag</td>\n",
       "      <td>11/10/2017</td>\n",
       "      <td>LUK</td>\n",
       "      <td>South Korea</td>\n",
       "      <td>NaN</td>\n",
       "      <td>163.0</td>\n",
       "      <td>NaN</td>\n",
       "      <td>Daegu</td>\n",
       "      <td>NaN</td>\n",
       "      <td>NaN</td>\n",
       "      <td>F</td>\n",
       "    </tr>\n",
       "    <tr>\n",
       "      <th>4</th>\n",
       "      <td>AhIn</td>\n",
       "      <td>Lee Ahin</td>\n",
       "      <td>이아인</td>\n",
       "      <td>아인</td>\n",
       "      <td>27/09/1999</td>\n",
       "      <td>MOMOLAND</td>\n",
       "      <td>9/11/2016</td>\n",
       "      <td>Double Kick</td>\n",
       "      <td>South Korea</td>\n",
       "      <td>NaN</td>\n",
       "      <td>160.0</td>\n",
       "      <td>44.0</td>\n",
       "      <td>Wonju</td>\n",
       "      <td>NaN</td>\n",
       "      <td>NaN</td>\n",
       "      <td>F</td>\n",
       "    </tr>\n",
       "  </tbody>\n",
       "</table>\n",
       "</div>"
      ],
      "text/plain": [
       "  Stage Name      Full Name Korean Name K Stage Name Date of Birth      Group  \\\n",
       "0      2Soul  Kim Younghoon         김영훈           이솔    10/09/1997  7 O'clock   \n",
       "1        A.M  Seong Hyunwoo         성현우          에이엠    31/12/1996  Limitless   \n",
       "2        Ace  Jang Wooyoung         장우영          에이스    28/08/1992        VAV   \n",
       "3       Aeji      Kwon Aeji         권애지           애지    25/10/1999   Hash Tag   \n",
       "4       AhIn       Lee Ahin         이아인           아인    27/09/1999   MOMOLAND   \n",
       "\n",
       "        Debut      Company      Country Second Country  Height  Weight  \\\n",
       "0  26/08/2014       Jungle  South Korea            NaN   172.0    55.0   \n",
       "1   9/07/2019          ONO  South Korea            NaN   181.0    62.0   \n",
       "2  31/10/2015       A team  South Korea            NaN   177.0    63.0   \n",
       "3  11/10/2017          LUK  South Korea            NaN   163.0     NaN   \n",
       "4   9/11/2016  Double Kick  South Korea            NaN   160.0    44.0   \n",
       "\n",
       "  Birthplace Other Group Former Group Gender  \n",
       "0        NaN         NaN          NaN      M  \n",
       "1        NaN         NaN          NaN      M  \n",
       "2        NaN         NaN          NaN      M  \n",
       "3      Daegu         NaN          NaN      F  \n",
       "4      Wonju         NaN          NaN      F  "
      ]
     },
     "execution_count": 10,
     "metadata": {},
     "output_type": "execute_result"
    }
   ],
   "source": [
    "df.head(5)"
   ]
  },
  {
   "cell_type": "markdown",
   "id": "d20c5228-78a2-499b-b62c-043e2f3daa87",
   "metadata": {},
   "source": [
    "## Quantitative Data\n",
    "Mean, Median, Modus, Min and Max"
   ]
  },
  {
   "cell_type": "code",
   "execution_count": 16,
   "id": "0a82791b-3ee7-477e-a22a-ae63d0d4d716",
   "metadata": {},
   "outputs": [
    {
     "data": {
      "text/plain": [
       "170.64354066985646"
      ]
     },
     "execution_count": 16,
     "metadata": {},
     "output_type": "execute_result"
    }
   ],
   "source": [
    "#see mean from Height column\n",
    "\n",
    "df['Height'].mean()"
   ]
  },
  {
   "cell_type": "code",
   "execution_count": 17,
   "id": "3e06e7f1-18a0-437b-8671-2d786374968c",
   "metadata": {},
   "outputs": [
    {
     "data": {
      "text/plain": [
       "57.0"
      ]
     },
     "execution_count": 17,
     "metadata": {},
     "output_type": "execute_result"
    }
   ],
   "source": [
    "#see median from Weight column \n",
    "\n",
    "df['Weight'].median()"
   ]
  },
  {
   "cell_type": "code",
   "execution_count": 18,
   "id": "1837a312-346e-499b-8653-c0fecd36077f",
   "metadata": {},
   "outputs": [
    {
     "data": {
      "text/plain": [
       "63.0"
      ]
     },
     "execution_count": 18,
     "metadata": {},
     "output_type": "execute_result"
    }
   ],
   "source": [
    "#see mode from Weight column \n",
    "\n",
    "df['Weight'].mode()[1]"
   ]
  },
  {
   "cell_type": "code",
   "execution_count": 19,
   "id": "4c636b46-6558-4654-805a-4d12a3b1750e",
   "metadata": {},
   "outputs": [
    {
     "data": {
      "text/plain": [
       "150.0"
      ]
     },
     "execution_count": 19,
     "metadata": {},
     "output_type": "execute_result"
    }
   ],
   "source": [
    "#See min from Height column \n",
    "\n",
    "df['Height'].min()"
   ]
  },
  {
   "cell_type": "code",
   "execution_count": 20,
   "id": "aebea8ad-a946-4e30-b9b3-37c8d5e3ad24",
   "metadata": {},
   "outputs": [
    {
     "data": {
      "text/plain": [
       "190.0"
      ]
     },
     "execution_count": 20,
     "metadata": {},
     "output_type": "execute_result"
    }
   ],
   "source": [
    "#See max from Height column \n",
    "\n",
    "df['Height'].max()"
   ]
  }
 ],
 "metadata": {
  "kernelspec": {
   "display_name": "Python 3 (ipykernel)",
   "language": "python",
   "name": "python3"
  },
  "language_info": {
   "codemirror_mode": {
    "name": "ipython",
    "version": 3
   },
   "file_extension": ".py",
   "mimetype": "text/x-python",
   "name": "python",
   "nbconvert_exporter": "python",
   "pygments_lexer": "ipython3",
   "version": "3.11.7"
  }
 },
 "nbformat": 4,
 "nbformat_minor": 5
}
